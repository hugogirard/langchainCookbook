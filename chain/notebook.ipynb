{
 "cells": [
  {
   "cell_type": "code",
   "execution_count": 1,
   "metadata": {},
   "outputs": [
    {
     "name": "stdout",
     "output_type": "stream",
     "text": [
      "Note: you may need to restart the kernel to use updated packages.\n"
     ]
    }
   ],
   "source": [
    "%pip install -r ../requirements.txt --quiet"
   ]
  },
  {
   "cell_type": "code",
   "execution_count": 2,
   "metadata": {},
   "outputs": [],
   "source": [
    "from dotenv import load_dotenv\n",
    "from langchain_openai import AzureChatOpenAI\n",
    "import os\n",
    "\n",
    "load_dotenv()\n",
    "\n",
    "chat = AzureChatOpenAI(\n",
    "    azure_endpoint=os.getenv('AZURE_OPENAI_ENDPOINT'),\n",
    "    azure_deployment=os.getenv('AZURE_OPENAI_DEPLOYMENT'),\n",
    "    api_version=os.getenv('AZURE_OPENAI_API_VERSION'),\n",
    "    api_key=os.getenv('AZURE_OPENAI_KEY')\n",
    ")    "
   ]
  },
  {
   "cell_type": "code",
   "execution_count": 4,
   "metadata": {},
   "outputs": [
    {
     "data": {
      "text/plain": [
       "\"Sure, here's a cat joke for you:\\n\\nWhy did the cat sit on the computer?\\n\\nBecause it wanted to keep an eye on the mouse!\""
      ]
     },
     "execution_count": 4,
     "metadata": {},
     "output_type": "execute_result"
    }
   ],
   "source": [
    "from langchain.prompts import ChatPromptTemplate\n",
    "from langchain.schema.output_parser import StrOutputParser\n",
    "\n",
    "template = \"Tell me a joke about {topic}.\"\n",
    "\n",
    "prompt_template = ChatPromptTemplate([\n",
    "    (\"system\", \"You are a helpful AI bot. Your name is Carl.\"),\n",
    "    (\"human\", template),\n",
    "])\n",
    "\n",
    "# Use a string parser and to avoid need to do result.content\n",
    "#  So this add the prompt --> chat --> end you parse the output\n",
    "chain = prompt_template | chat | StrOutputParser()\n",
    "\n",
    "result = await chain.ainvoke({\"topic\": \"cat\"})\n",
    "\n",
    "result"
   ]
  },
  {
   "cell_type": "code",
   "execution_count": null,
   "metadata": {},
   "outputs": [],
   "source": [
    "from langchain.schema.runnable import RunnableLambda\n",
    "\n",
    "prompt_template = ChatPromptTemplate([\n",
    "    (\"system\", \"You are a comedian who tells jokes about {topic}\"),\n",
    "    (\"human\", \"Tell me {joke_count} jokes.\"),\n",
    "])\n",
    "\n",
    "uppercase_output = RunnableLambda(lambda x: x.upper())\n",
    "count_words = RunnableLambda(lambda x: f\"Words count: {len(x.split())}\\n{x}\")\n",
    "\n",
    "chain = prompt_template | chat | StrOutputParser() | uppercase_output | count_words\n",
    "\n",
    "result = await chain.ainvoke({\"topic\": \"cat\", \"joke_count\": 3})\n",
    "\n",
    "result"
   ]
  },
  {
   "cell_type": "markdown",
   "metadata": {},
   "source": [
    "Chain parallel"
   ]
  },
  {
   "cell_type": "code",
   "execution_count": 7,
   "metadata": {},
   "outputs": [
    {
     "data": {
      "text/plain": [
       "\"Pros:\\n Pros of the iPhone 13's main features:\\n\\n1. Display: The Super Retina XDR display offers excellent color accuracy, brightness, and HDR support, providing a visually stunning viewing experience.\\n\\n2. A15 Bionic Chip: The latest A15 Bionic chip delivers improved performance, making the iPhone 13 faster and more efficient for tasks like gaming and AR.\\n\\n3. Camera System: The dual-camera system with advanced computational photography features allows for high-quality photos and videos, even in low-light conditions. The support for 4K Dolby Vision HDR recording adds to the overall camera capabilities.\\n\\n4. Battery Life: The longer battery life of the iPhone 13 means users can enjoy extended usage without worrying about running out of power quickly.\\n\\n5. 5G Connectivity: The 5G support enables faster download and streaming speeds, enhancing the overall internet experience on the iPhone 13.\\n\\n6. Storage Options: The various storage configurations provide ample space for storing apps, photos, videos, and files, catering to different user needs and preferences.\\n\\n7. Ceramic Shield Protection: The Ceramic Shield offers enhanced durability and drop resistance, providing added protection for the iPhone 13.\\n\\n8. iOS 15: The pre-installed iOS 15 brings new features and improvements, enhancing the overall user experience and offering enhanced privacy settings.\\n\\n9. Design and Colors: The sleek design and multiple color options make the iPhone 13 a visually appealing choice for users who value aesthetics.\\n\\n10. MagSafe and Wireless Charging: The support for MagSafe accessories and wireless charging allows for convenient and hassle-free charging and attachment of compatible accessories.\\n\\nOverall, the pros of these features make the iPhone 13 a highly advanced and versatile smartphone, offering improved performance, camera capabilities, battery life, and connectivity options.\\n\\nCons:\\n While the iPhone 13 offers a range of impressive features, there are a few potential drawbacks to consider:\\n\\n1. Display Size: While the iPhone 13 is available in two sizes, some users may find the 6.1-inch or 6.7-inch displays too large for comfortable one-handed use or pocketability.\\n\\n2. Pricing: The iPhone 13 can be quite expensive, especially when opting for higher storage configurations or the larger model. This may make it less accessible for budget-conscious consumers.\\n\\n3. Camera Limitations: While the iPhone 13's camera system is impressive, it lacks some of the advanced features found in other flagship smartphones, such as a periscope zoom lens or dedicated telephoto lens.\\n\\n4. Lack of USB-C: The iPhone 13 still uses Apple's proprietary Lightning port instead of the more universal USB-C standard. This may be inconvenient for users who prefer a single charging cable for multiple devices.\\n\\n5. No Always-On Display: Unlike some other smartphones on the market, the iPhone 13 does not offer an always-on display feature, which may be disappointing for users who prefer to glance at their notifications without needing to wake the device.\\n\\n6. Limited Customization: While iOS 15 introduces new features and enhancements, the iPhone 13 still lacks the same level of customization and flexibility offered by some Android devices, such as the ability to customize the home screen layout or use third-party app stores.\\n\\n7. No Expandable Storage: The iPhone 13 does not offer expandable storage options, meaning users are limited to the storage capacity they choose at the time of purchase. This may be a disadvantage for users who require a large amount of storage for media files or apps.\\n\\n8. Fragility: While the iPhone 13 features Ceramic Shield protection, it is still susceptible to accidental drops and damage. The glass back and screen may still crack or shatter if the device is not properly protected with a case or screen protector.\\n\\nOverall, while the iPhone 13 offers many impressive features, it's important to consider these potential drawbacks to determine if it meets your specific needs and preferences.\""
      ]
     },
     "execution_count": 7,
     "metadata": {},
     "output_type": "execute_result"
    }
   ],
   "source": [
    "from langchain.schema.runnable import RunnableLambda, RunnableParallel\n",
    "\n",
    "prompt_template = ChatPromptTemplate([\n",
    "    (\"system\", \"You are an expert product reviewer\"),\n",
    "    (\"human\", \"List the main features of the product {product_name}.\")\n",
    "])\n",
    "\n",
    "def analyze_pros(features):\n",
    "    pros_template = ChatPromptTemplate([\n",
    "        (\"system\", \"You are an expert product reviewer\"),\n",
    "        (\"human\", \"Given these features: {features}, list the pros of these features.\")\n",
    "    ])\n",
    "    return pros_template.format_prompt(features=features)\n",
    "\n",
    "def analyze_cons(features):\n",
    "    cons_template = ChatPromptTemplate([\n",
    "        (\"system\", \"You are an expert product reviewer\"),\n",
    "        (\"human\", \"Given these features: {features}, list the cons of these features.\")\n",
    "    ])\n",
    "    return cons_template.format_prompt(features=features)\n",
    "\n",
    "def combine_pros_cons(pros, cons):\n",
    "    return f\"Pros:\\n {pros}\\n\\nCons:\\n {cons}\"\n",
    "\n",
    "pros_branch = (\n",
    "    RunnableLambda(lambda x: analyze_pros(x)) | chat | StrOutputParser()\n",
    ")\n",
    "\n",
    "cons_branch = (\n",
    "    RunnableLambda(lambda x: analyze_cons(x)) | chat | StrOutputParser()\n",
    ")\n",
    "\n",
    "chain = (\n",
    "    prompt_template\n",
    "    | chat\n",
    "    | StrOutputParser()\n",
    "    | RunnableParallel(branches={\"pros\": pros_branch, \"cons\": cons_branch})\n",
    "    | RunnableLambda(lambda x: combine_pros_cons(x[\"branches\"][\"pros\"], x[\"branches\"][\"cons\"])) \n",
    ")\n",
    "\n",
    "result = await chain.ainvoke({\"product_name\": \"iPhone 13\"})\n",
    "\n",
    "result"
   ]
  },
  {
   "cell_type": "markdown",
   "metadata": {},
   "source": [
    "Chain Branching"
   ]
  },
  {
   "cell_type": "code",
   "execution_count": 8,
   "metadata": {},
   "outputs": [
    {
     "data": {
      "text/plain": [
       "'Dear valued customer,\\n\\nThank you for taking the time to provide us with your feedback. We sincerely apologize for any negative experience you may have had with our product/service. \\n\\nAt [Company Name], we strive to ensure the utmost satisfaction of our customers, and we deeply regret falling short of your expectations. We understand the importance of addressing any concerns you may have, and we are committed to resolving the issue to your satisfaction.\\n\\nWe would greatly appreciate it if you could provide us with more details about your specific experience so that we can investigate the matter further. Our team is dedicated to improving and delivering the best possible service, and your feedback is invaluable in helping us achieve that goal.\\n\\nPlease feel free to reach out to our customer support team at [contact details] to discuss this matter further. We genuinely value your opinion and are eager to work towards a resolution that meets your needs.\\n\\nOnce again, we apologize for any inconvenience caused, and we assure you that we are committed to making the necessary improvements to prevent similar issues from happening in the future.\\n\\nThank you for your understanding and for giving us the opportunity to make things right.\\n\\nSincerely,\\n\\n[Your Name]\\nCustomer Support Team'"
      ]
     },
     "execution_count": 8,
     "metadata": {},
     "output_type": "execute_result"
    }
   ],
   "source": [
    "from langchain.schema.runnable import RunnableBranch\n",
    "\n",
    "positive_feedback_template = ChatPromptTemplate([\n",
    "    (\"system\", \"You are an helpfull assistant\"),\n",
    "    (\"human\", \"Generate a thank you note for this positive feedback: {feedback}.\")\n",
    "])\n",
    "\n",
    "negative_feedback_template = ChatPromptTemplate([\n",
    "    (\"system\", \"You are an helpfull assistant\"),\n",
    "    (\"human\", \"Generate a reponse addressing the negative feedback: {feedback}.\")\n",
    "])\n",
    "\n",
    "neutral_feedback_template = ChatPromptTemplate([\n",
    "    (\"system\", \"You are an helpfull assistant\"),\n",
    "    (\"human\", \"Generate a request for more details for this neutral feedback: {feedback}.\")\n",
    "])\n",
    "\n",
    "escalate_feedback_template = ChatPromptTemplate.from_messages(\n",
    "    [\n",
    "        (\"system\", \"You are a helpful assistant.\"),\n",
    "        (\n",
    "            \"human\",\n",
    "            \"Generate a message to escalate this feedback to a human agent: {feedback}.\",\n",
    "        ),\n",
    "    ]\n",
    ")\n",
    "\n",
    "# Define the feedback classification template\n",
    "classification_template = ChatPromptTemplate.from_messages(\n",
    "    [\n",
    "        (\"system\", \"You are a helpful assistant.\"),\n",
    "        (\"human\",\n",
    "         \"Classify the sentiment of this feedback as positive, negative, neutral, or escalate: {feedback}.\"),\n",
    "    ]\n",
    ")\n",
    "\n",
    "branches = RunnableBranch(\n",
    "    # This is like IF statement, if the condition is true, it will execute the chain\n",
    "    # otherwise does the others\n",
    "    (\n",
    "        lambda x: \"positive\" in x,\n",
    "        positive_feedback_template | chat | StrOutputParser()  # Positive feedback chain\n",
    "    ),\n",
    "    (\n",
    "        lambda x: \"negative\" in x,\n",
    "        negative_feedback_template | chat | StrOutputParser()  # Negative feedback chain\n",
    "    ),\n",
    "    (\n",
    "        lambda x: \"neutral\" in x,\n",
    "        neutral_feedback_template | chat | StrOutputParser()  # Neutral feedback chain\n",
    "    ),\n",
    "    escalate_feedback_template | chat | StrOutputParser()\n",
    ")\n",
    "\n",
    "# Create the classification chain\n",
    "classification_chain = classification_template | chat | StrOutputParser()\n",
    "\n",
    "# Combine classification and response generation into one chain\n",
    "chain = classification_chain | branches\n",
    "\n",
    "review = \"The product is terrible. It broke after just one use and the quality is very poor.\"\n",
    "result = await chain.ainvoke({\"feedback\": review})\n",
    "\n",
    "result"
   ]
  }
 ],
 "metadata": {
  "kernelspec": {
   "display_name": ".venv",
   "language": "python",
   "name": "python3"
  },
  "language_info": {
   "codemirror_mode": {
    "name": "ipython",
    "version": 3
   },
   "file_extension": ".py",
   "mimetype": "text/x-python",
   "name": "python",
   "nbconvert_exporter": "python",
   "pygments_lexer": "ipython3",
   "version": "3.12.5"
  }
 },
 "nbformat": 4,
 "nbformat_minor": 2
}
