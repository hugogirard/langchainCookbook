{
 "cells": [
  {
   "cell_type": "code",
   "execution_count": null,
   "metadata": {},
   "outputs": [],
   "source": [
    "# Install dependencies\n",
    "\n",
    "%pip install -r ../requirements.txt --quiet"
   ]
  },
  {
   "cell_type": "markdown",
   "metadata": {},
   "source": [
    "Create chat azure client"
   ]
  },
  {
   "cell_type": "code",
   "execution_count": 3,
   "metadata": {},
   "outputs": [],
   "source": [
    "from dotenv import load_dotenv\n",
    "from langchain_openai import AzureChatOpenAI\n",
    "import os\n",
    "\n",
    "load_dotenv()\n",
    "\n",
    "chat = AzureChatOpenAI(\n",
    "    azure_endpoint=os.getenv('AZURE_OPENAI_ENDPOINT'),\n",
    "    azure_deployment=os.getenv('AZURE_OPENAI_DEPLOYMENT'),\n",
    "    api_version=os.getenv('AZURE_OPENAI_API_VERSION'),\n",
    "    api_key=os.getenv('AZURE_OPENAI_KEY')\n",
    ")    "
   ]
  },
  {
   "cell_type": "code",
   "execution_count": null,
   "metadata": {},
   "outputs": [],
   "source": [
    "result = await chat.ainvoke(\"Tell me a joke\")\n",
    "\n",
    "result"
   ]
  },
  {
   "cell_type": "markdown",
   "metadata": {},
   "source": [
    "Use conversation message helpers"
   ]
  },
  {
   "cell_type": "code",
   "execution_count": null,
   "metadata": {},
   "outputs": [],
   "source": [
    "from langchain_core.messages import AIMessage, HumanMessage, SystemMessage\n",
    "\n",
    "messages = [\n",
    "    SystemMessage(\"Hello! I am a chatbot. I can help you with your questions.\"),\n",
    "    HumanMessage(\"What is the capital of France?\"),\n",
    "]\n",
    "\n",
    "# This return Paris\n",
    "result = await chat.ainvoke(messages)\n",
    "\n",
    "# Keep the answer\n",
    "messages.append(AIMessage(result.content))\n",
    "\n",
    "# Ask best food from Paris since it's keep in the context\n",
    "messages.append(HumanMessage(\"Best food from that city\"))\n",
    "\n",
    "await chat.ainvoke(messages)"
   ]
  },
  {
   "cell_type": "markdown",
   "metadata": {},
   "source": [
    "Real time conversation"
   ]
  },
  {
   "cell_type": "code",
   "execution_count": null,
   "metadata": {},
   "outputs": [],
   "source": [
    "from langchain_core.messages import AIMessage, HumanMessage, SystemMessage\n",
    "\n",
    "history = []\n",
    "system_message = SystemMessage(\"I am a chatbot. I can help you with your questions.\")\n",
    "\n",
    "history.append(system_message)\n",
    "\n",
    "query = [\n",
    "    \"What is the capital of France?\",\n",
    "    \"What is the population of France?\",\n",
    "    \"What is the currency of France?\",\n",
    "    \"What is the official language of France?\",\n",
    "    \"What is the timezone of France?\",\n",
    "]\n",
    "\n",
    "for i in range(5):\n",
    "    history.append(HumanMessage(query[i]))\n",
    "\n",
    "    result = await chat.ainvoke(history)\n",
    "\n",
    "    response = result.content\n",
    "\n",
    "    history.append(AIMessage(response))\n",
    "\n",
    "    print(f\"Bot: {response}\")\n",
    "\n",
    "print(\"Chat history:\")\n",
    "print(history)"
   ]
  }
 ],
 "metadata": {
  "kernelspec": {
   "display_name": ".venv",
   "language": "python",
   "name": "python3"
  },
  "language_info": {
   "codemirror_mode": {
    "name": "ipython",
    "version": 3
   },
   "file_extension": ".py",
   "mimetype": "text/x-python",
   "name": "python",
   "nbconvert_exporter": "python",
   "pygments_lexer": "ipython3",
   "version": "3.12.5"
  }
 },
 "nbformat": 4,
 "nbformat_minor": 2
}
